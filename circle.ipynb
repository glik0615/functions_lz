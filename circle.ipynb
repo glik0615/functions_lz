{
 "cells": [
  {
   "cell_type": "code",
   "execution_count": 8,
   "metadata": {},
   "outputs": [
    {
     "name": "stdout",
     "output_type": "stream",
     "text": [
      "Введите значение радиуса\n",
      "Площадь круга равна 3.14\n",
      "Длина окружности равна 6.28\n"
     ]
    }
   ],
   "source": [
    "#Ввод значения радиуса и преобразование типа значения\n",
    "print (\"Введите значение радиуса\") \n",
    "r = int(input())\n",
    "# Создание функции, вычисляющей площадь круга\n",
    "def square(r):\n",
    "     return (r**2)*3.14\n",
    "\n",
    "#Создание функции, вычисляющей длину окружности\n",
    "print(\"Площадь круга равна\",square(r))\n",
    "def length(r):\n",
    "     return 2*3.14*r\n",
    "# Вывод получившихся значений\n",
    "print(\"Длина окружности равна\",length(r))\n",
    "\n"
   ]
  },
  {
   "cell_type": "code",
   "execution_count": 9,
   "metadata": {},
   "outputs": [
    {
     "name": "stdout",
     "output_type": "stream",
     "text": [
      "Введите число\n",
      "Введенное число  не является простым\n"
     ]
    }
   ],
   "source": [
    "print('Введите число')\n",
    "number = int(input())\n",
    "def check(number):\n",
    "    for i in range(1, number):\n",
    "        if number % i != 0 and number!=1 :\n",
    "            result = \" не является простым\"\n",
    "        elif number % i == 0 :\n",
    "            result = \"  является простым\"\n",
    "    return result\n",
    "print (\"Введенное число\", check(number))"
   ]
  },
  {
   "cell_type": "code",
   "execution_count": 13,
   "metadata": {},
   "outputs": [
    {
     "name": "stdout",
     "output_type": "stream",
     "text": [
      "Введите число\n",
      "Введенное число  не является простым\n"
     ]
    }
   ],
   "source": [
    "print('Введите число')\n",
    "number = int(input())\n",
    "def check(number):\n",
    "    for i in range(2, number):\n",
    "        if (number % i) != 0  :\n",
    "            result = \" не является простым\"\n",
    "\n",
    "        elif (number % i) == 0 :\n",
    "            result = \"  является простым\"\n",
    "    return result\n",
    "print (\"Введенное число\", check(number))"
   ]
  },
  {
   "cell_type": "code",
   "execution_count": null,
   "metadata": {},
   "outputs": [
    {
     "name": "stdout",
     "output_type": "stream",
     "text": [
      "Введите строку\n"
     ]
    },
    {
     "ename": "IndexError",
     "evalue": "string index out of range",
     "output_type": "error",
     "traceback": [
      "\u001b[1;31m---------------------------------------------------------------------------\u001b[0m",
      "\u001b[1;31mIndexError\u001b[0m                                Traceback (most recent call last)",
      "Cell \u001b[1;32mIn[13], line 13\u001b[0m\n\u001b[0;32m     11\u001b[0m \u001b[38;5;28;01mfor\u001b[39;00m i \u001b[38;5;129;01min\u001b[39;00m \u001b[38;5;28mrange\u001b[39m(\u001b[38;5;241m0\u001b[39m,\u001b[38;5;28mlen\u001b[39m(symbols_list)):\n\u001b[0;32m     12\u001b[0m         \u001b[38;5;28;01mfor\u001b[39;00m symbol \u001b[38;5;129;01min\u001b[39;00m symbols_list:\n\u001b[1;32m---> 13\u001b[0m               \u001b[38;5;28;01mif\u001b[39;00m \u001b[43msymbol\u001b[49m\u001b[43m[\u001b[49m\u001b[43mi\u001b[49m\u001b[43m]\u001b[49m \u001b[38;5;241m==\u001b[39m symbol[\u001b[38;5;241m-\u001b[39mi]:\n\u001b[0;32m     14\u001b[0m                 result \u001b[38;5;241m=\u001b[39m \u001b[38;5;124m\"\u001b[39m\u001b[38;5;124mДанная строка является полиндромом\u001b[39m\u001b[38;5;124m\"\u001b[39m\n\u001b[0;32m     17\u001b[0m \u001b[38;5;28mprint\u001b[39m(result)\n",
      "\u001b[1;31mIndexError\u001b[0m: string index out of range"
     ]
    }
   ],
   "source": [
    "print('Введите строку')\n",
    "symbols = input()\n",
    "symbols_list = []\n",
    "\n",
    "for symbol in symbols:\n",
    "    symbols_list += symbol\n",
    "\n",
    "\n",
    "def search(symbols_list):\n",
    "        return \n",
    "for i in range(0,len(symbols_list)):\n",
    "        for symbol in symbols_list:\n",
    "              if symbol[i].lower_() == symbol[-i]:\n",
    "                result = \"Данная строка является полиндромом\"\n",
    "\n",
    "    \n",
    "print(result)\n"
   ]
  }
 ],
 "metadata": {
  "kernelspec": {
   "display_name": "Python 3",
   "language": "python",
   "name": "python3"
  },
  "language_info": {
   "codemirror_mode": {
    "name": "ipython",
    "version": 3
   },
   "file_extension": ".py",
   "mimetype": "text/x-python",
   "name": "python",
   "nbconvert_exporter": "python",
   "pygments_lexer": "ipython3",
   "version": "3.12.3"
  }
 },
 "nbformat": 4,
 "nbformat_minor": 2
}
