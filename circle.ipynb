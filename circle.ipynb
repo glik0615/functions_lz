{
 "cells": [
  {
   "cell_type": "code",
   "execution_count": null,
   "metadata": {},
   "outputs": [
    {
     "name": "stdout",
     "output_type": "stream",
     "text": [
      "Введите значение радиуса\n",
      "Площадь круга равна 28.26\n",
      "Длина окружности равна 18.84\n"
     ]
    }
   ],
   "source": [
    "#Ввод значения радиуса и преобразование типа значения\n",
    "print (\"Введите значение радиуса\") \n",
    "r = int(input())\n",
    "# Создание функции, вычисляющей площадь круга\n",
    "def square(r):\n",
    "     return (r**2)*3.14\n",
    "\n",
    "#Создание функции, вычисляющей длину окружности\n",
    "print(\"Площадь круга равна\",square(r))\n",
    "def length(r):\n",
    "     return 2*3.14*r\n",
    "# Вывод получившихся значений\n",
    "print(\"Длина окружности равна\",length(r))\n",
    "\n"
   ]
  }
 ],
 "metadata": {
  "kernelspec": {
   "display_name": "Python 3",
   "language": "python",
   "name": "python3"
  },
  "language_info": {
   "codemirror_mode": {
    "name": "ipython",
    "version": 3
   },
   "file_extension": ".py",
   "mimetype": "text/x-python",
   "name": "python",
   "nbconvert_exporter": "python",
   "pygments_lexer": "ipython3",
   "version": "3.12.3"
  }
 },
 "nbformat": 4,
 "nbformat_minor": 2
}
