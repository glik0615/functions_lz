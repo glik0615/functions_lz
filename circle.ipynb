{
 "cells": [
  {
   "cell_type": "code",
   "execution_count": 8,
   "metadata": {},
   "outputs": [
    {
     "name": "stdout",
     "output_type": "stream",
     "text": [
      "Введите значение радиуса\n",
      "Площадь круга равна 3.14\n",
      "Длина окружности равна 6.28\n"
     ]
    }
   ],
   "source": [
    "#Ввод значения радиуса и преобразование типа значения\n",
    "print (\"Введите значение радиуса\") \n",
    "r = int(input())\n",
    "# Создание функции, вычисляющей площадь круга\n",
    "def square(r):\n",
    "     return (r**2)*3.14\n",
    "\n",
    "#Создание функции, вычисляющей длину окружности\n",
    "print(\"Площадь круга равна\",square(r))\n",
    "def length(r):\n",
    "     return 2*3.14*r\n",
    "# Вывод получившихся значений\n",
    "print(\"Длина окружности равна\",length(r))\n",
    "\n"
   ]
  },
  {
   "cell_type": "code",
   "execution_count": null,
   "metadata": {},
   "outputs": [
    {
     "name": "stdout",
     "output_type": "stream",
     "text": [
      "Введите число\n",
      "Введенное число является простым\n"
     ]
    }
   ],
   "source": [
    "print('Введите число')\n",
    "num = input()\n",
    "number = int(num)\n",
    "def check(number):\n",
    "    for i in range(1, number):\n",
    "        if number % i == 0 or number == 1:\n",
    "            result = \"не яввляется простым\"\n",
    "        elif number % i != 0 and number %  :\n",
    "            result = \"является простым\"\n",
    "    return result\n",
    "result = check(number)\n",
    "print (\"Введенное число\", result)"
   ]
  }
 ],
 "metadata": {
  "kernelspec": {
   "display_name": "Python 3",
   "language": "python",
   "name": "python3"
  },
  "language_info": {
   "codemirror_mode": {
    "name": "ipython",
    "version": 3
   },
   "file_extension": ".py",
   "mimetype": "text/x-python",
   "name": "python",
   "nbconvert_exporter": "python",
   "pygments_lexer": "ipython3",
   "version": "3.12.3"
  }
 },
 "nbformat": 4,
 "nbformat_minor": 2
}
